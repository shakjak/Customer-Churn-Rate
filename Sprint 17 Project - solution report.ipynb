{
 "cells": [
  {
   "cell_type": "markdown",
   "metadata": {},
   "source": [
    "<div style=\"border: solid blue 2px; padding: 15px; margin: 10px\">\n",
    "  <b>Overall Summary of the Project – Solution Report</b><br><br>\n",
    "\n",
    "  Hi Shakoor, I’m <b>Victor Camargo</b> (<a href=\"https://hub.tripleten.com/u/e9cc9c11\" target=\"_blank\">TripleTen Hub profile</a>). Thanks for submitting your <b>Final Project: Interconnect Churn Prediction</b>!<br><br>\n",
    "\n",
    "  <b>Nice work on:</b><br>\n",
    "  ✔️ Following your full work plan without skipping steps, ensuring all parts of the pipeline were covered.<br>\n",
    "  ✔️ Handling missing values carefully to allow your models to run smoothly.<br>\n",
    "  ✔️ Focusing on preprocessing and feature engineering to strengthen the model inputs.<br><br>\n",
    "\n",
    "  <b>Solution Report Review:</b><br>\n",
    "  ✅ You clearly described the steps you performed and why they were important.<br>\n",
    "  ✅ You identified your main challenges (missing values during modeling) and explained how you solved them.<br>\n",
    "  ✅ You emphasized the value of metrics and evaluation to ensure your final model was robust.<br><br>\n",
    "\n",
    "  <b>Final Evaluation:</b><br>\n",
    "  Your final model (<code>LightGBM</code>) achieved an AUC-ROC of <b>0.85</b> on the test set. Great job<br><br>\n",
    "\n",
    "  Overall, this is a strong solution report that demonstrates solid data preparation, modeling, and evaluation. <b>Well done — your project is approved! 🚀💪</b><br><br>\n",
    "\n",
    "  Best of luck and much success in your future projects and career. Keep building on this great foundation — you’re progressing really well! 🌟\n",
    "</div>\n"
   ]
  },
  {
   "cell_type": "markdown",
   "metadata": {},
   "source": [
    "# Solution Report:"
   ]
  },
  {
   "cell_type": "markdown",
   "metadata": {},
   "source": [
    "### 1. What steps of the plan were performed and what steps were skipped (explain why)?\n",
    "\n",
    "In the overall project the work plan was followed. \n",
    "\n",
    "[Work Plan]\n",
    "- We need to import the data and do nesecary data cleaning and preprocessing. This includes merging the data, filling in missing values and removing duplicates.\n",
    "- Feature Engeniring. We will want to create new features when the data is merged and cleaned to then extract new insights that may impact if a cleint is more likely to stay or churn.\n",
    "- EDA. Dive into what other trends that could be extracted that isn't intialy expressed in the data.\n",
    "- Prepare for Model training, train and validate model, and tune models when need to yield the best result.\n",
    "\n",
    "The work plan was quite solid and there was no need to skip any steps. I will say there was some features i enginered that i couldn't use in the model and weren't necesary to create."
   ]
  },
  {
   "cell_type": "markdown",
   "metadata": {},
   "source": [
    "### 2. What difficulties did you encounter and how did you manage to solve them?\n",
    "\n",
    "Where I ran into my challenges was mostly in the Model training. I originally didn't change some values to non missing and kept missing values. So I had to input a solution to make it so i can run the models with no issues. Otherwise, I didn't run into many issues that couldn't be quickly solved or solved with a little bit of patience."
   ]
  },
  {
   "cell_type": "markdown",
   "metadata": {},
   "source": [
    "### 3. What were some of the key steps to solving the task?\n",
    "\n",
    "The key steps of solving the task were definetly preprocessing and feature enginering. Adding new features and making sure features could be used for a model to train was very important. Also creating a good reviewing system to check if the model is a good quality model or not. Not including such metrics and making it easy to understand would have created more challenges for the project."
   ]
  },
  {
   "cell_type": "markdown",
   "metadata": {},
   "source": [
    "### 4. What is your final model and what quality score does it have?\n",
    "\n",
    "My final model was a lightGBM Model used with the unscaled features. \n",
    "\n",
    "- AUC-ROC score: 0.85\n",
    "- Accuracy score: 0.80"
   ]
  }
 ],
 "metadata": {
  "kernelspec": {
   "display_name": "Python 3 (ipykernel)",
   "language": "python",
   "name": "python3"
  },
  "language_info": {
   "codemirror_mode": {
    "name": "ipython",
    "version": 3
   },
   "file_extension": ".py",
   "mimetype": "text/x-python",
   "name": "python",
   "nbconvert_exporter": "python",
   "pygments_lexer": "ipython3",
   "version": "3.9.23"
  }
 },
 "nbformat": 4,
 "nbformat_minor": 4
}
